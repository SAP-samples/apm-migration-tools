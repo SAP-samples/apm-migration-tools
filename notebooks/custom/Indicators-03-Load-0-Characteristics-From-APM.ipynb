{
 "cells": [
  {
   "cell_type": "markdown",
   "metadata": {},
   "source": [
    "# 0 - Load Characteristics from APM\n",
    "\n",
    "This notebook is used to load the characteristics from APM instead from ERP.\n",
    "This assumes that all characteristics that are used for the migration are already exist in ERP and no new characteristics are needed.\n",
    "\n",
    "This step needs to be done before we execute the notebook `Indicators-03-Load-1-Sync.ipynb`."
   ]
  },
  {
   "cell_type": "markdown",
   "metadata": {},
   "source": [
    "## 1. Configuration"
   ]
  },
  {
   "cell_type": "code",
   "execution_count": null,
   "metadata": {},
   "outputs": [],
   "source": [
    "# Pre-requisite Configuration\n",
    "# ------------------------------------------------------------------------------ #\n",
    "# For testing\n",
    "# ------------------------------------------------------------------------------ #\n",
    "\n",
    "%load_ext autoreload\n",
    "%autoreload 2\n",
    "\n",
    "import os\n",
    "\n",
    "# get the current working directory\n",
    "current_dir = os.getcwd()\n",
    "print(f\"current work directory: {current_dir}\")\n",
    "\n",
    "# if the current working directory not ends with \"notebooks\", change it to the parent directory\n",
    "if not current_dir.endswith(\"notebooks\"):\n",
    "\n",
    "    workspace_root = os.path.abspath(os.path.join(os.getcwd(), \"..\"))\n",
    "    os.chdir(workspace_root)\n",
    "\n",
    "    print(f\"changed root work directory to: {workspace_root}\")\n",
    "\n",
    "from modules.util.config import get_config_by_id, get_config_global  # noqa: E402\n",
    "from modules.util.database import SQLAlchemyClient   # noqa: E402\n",
    "from modules.util.helpers import Logger  # noqa: E402\n",
    "\n",
    "\n",
    "# ------------------------------------------------------------------------------ #\n",
    "# Configuration\n",
    "# ------------------------------------------------------------------------------ #\n",
    "\n",
    "CONFIG_ID = 'CUSTOM_TEST'\n",
    "TRANSFORM = get_config_by_id(CONFIG_ID)[\"load\"][\"indicator\"]\n",
    "EXTRACTION_DIR = TRANSFORM[\"directory\"]\n",
    "REPORTS_DIR = f\"{EXTRACTION_DIR}/reports\"\n",
    "CONFIG_GLOBAL = get_config_global().get('indicators').get('transform')\n",
    "\n",
    "# ------------------------------------------------------------------------------ #\n",
    "# Create directories\n",
    "# ------------------------------------------------------------------------------ #\n",
    "if not os.path.exists(REPORTS_DIR):\n",
    "    os.makedirs(REPORTS_DIR)\n",
    "\n",
    "# ------------------------------------------------------------------------------ #\n",
    "# Logger\n",
    "# ------------------------------------------------------------------------------ #\n",
    "\n",
    "log = Logger.get_logger(CONFIG_ID)\n",
    "\n",
    "Logger.blank_line(log)\n",
    "log.info(\"** LOAD - INDICATORS **\")\n",
    "Logger.blank_line(log)\n",
    "\n",
    "log.info(f\"Extraction Directory: {EXTRACTION_DIR}\")\n",
    "log.info(f\"Reports Directory: {REPORTS_DIR}\")\n",
    "\n",
    "db = SQLAlchemyClient(CONFIG_ID)"
   ]
  },
  {
   "cell_type": "markdown",
   "metadata": {},
   "source": [
    "## 2. Load Characteristics from APM"
   ]
  },
  {
   "cell_type": "code",
   "execution_count": null,
   "metadata": {},
   "outputs": [],
   "source": [
    "from modules.apm.manage_indicators import ApiCharacteristics\n",
    "from modules.util.database import (\n",
    "    ERPCharacteristics,\n",
    ")\n",
    "\n",
    "# Daten aus `data` einfügen\n",
    "def insert_characteristics(data):\n",
    "    characteristics = []\n",
    "\n",
    "    try:\n",
    "        # iterate over the list of characteristics\n",
    "        # and create an instance of ERPCharacteristics for each one\n",
    "        # and add it to the list\n",
    "        for item in data.get(\n",
    "            \"value\", []\n",
    "        ):  # Extract the list of characteristics from the 'value' key\n",
    "            characteristic = ERPCharacteristics(\n",
    "                CharcInternalID=item[\"characteristicsInternalId\"],\n",
    "                Characteristic=item[\"characteristicsName\"],\n",
    "                CharcDataType=item[\"dataType\"],\n",
    "                CharcLength=item[\"charcLength\"],\n",
    "                CharcDecimals=item[\"charcDecimals\"],\n",
    "                UnitOfMeasureISOCode=item[\"unitOfMeasure\"],\n",
    "            )\n",
    "            # add the characteristic to an array\n",
    "            characteristics.append(characteristic)\n",
    "        # Insert all characteristics at once\n",
    "        db.insert_batches(characteristics)\n",
    "        print(\"Successfully inserted characteristics into the database.\")\n",
    "    except Exception as e:\n",
    "        print(f\"Error while inserting data: {e}\")\n",
    "\n",
    "\n",
    "api_char = ApiCharacteristics(CONFIG_ID)\n",
    "# get all characteristics\n",
    "data = api_char.get_characteristics()\n",
    "\n",
    "# Call the function to insert characteristics into the database\n",
    "insert_characteristics(data)"
   ]
  }
 ],
 "metadata": {
  "kernelspec": {
   "display_name": ".venv",
   "language": "python",
   "name": "python3"
  },
  "language_info": {
   "codemirror_mode": {
    "name": "ipython",
    "version": 3
   },
   "file_extension": ".py",
   "mimetype": "text/x-python",
   "name": "python",
   "nbconvert_exporter": "python",
   "pygments_lexer": "ipython3",
   "version": "3.13.2"
  }
 },
 "nbformat": 4,
 "nbformat_minor": 2
}
