{
 "cells": [
  {
   "cell_type": "markdown",
   "metadata": {},
   "source": [
    "# Configuration"
   ]
  },
  {
   "cell_type": "code",
   "execution_count": null,
   "metadata": {},
   "outputs": [],
   "source": [
    "# Pre-requisite Configuration\n",
    "# ------------------------------------------------------------------------------ #\n",
    "# For testing\n",
    "# ------------------------------------------------------------------------------ #\n",
    "\n",
    "%load_ext autoreload\n",
    "%autoreload 2\n",
    "\n",
    "import os \n",
    "from modules.util.config import get_config_by_id, get_config_global\n",
    "from modules.util.database import SQLAlchemyClient\n",
    "from modules.util.helpers import Logger\n",
    "\n",
    "\n",
    "# ------------------------------------------------------------------------------ #\n",
    "# Configuration\n",
    "# ------------------------------------------------------------------------------ #\n",
    "\n",
    "CONFIG_ID = 'CUSTOM_TEST'\n",
    "TRANSFORM = get_config_by_id(CONFIG_ID)[\"load\"][\"indicator\"]\n",
    "EXTRACTION_DIR = TRANSFORM[\"directory\"]\n",
    "REPORTS_DIR = f\"{EXTRACTION_DIR}/reports\"\n",
    "CONFIG_GLOBAL = get_config_global().get('indicators').get('transform')\n",
    "\n",
    "# ------------------------------------------------------------------------------ #\n",
    "# Create directories\n",
    "# ------------------------------------------------------------------------------ #\n",
    "if not os.path.exists(REPORTS_DIR):\n",
    "    os.makedirs(REPORTS_DIR)\n",
    "\n",
    "# ------------------------------------------------------------------------------ #\n",
    "# Logger\n",
    "# ------------------------------------------------------------------------------ #\n",
    "\n",
    "log = Logger.get_logger(CONFIG_ID)\n",
    "\n",
    "Logger.blank_line(log)\n",
    "log.info(\"** LOAD - INDICATORS **\")\n",
    "Logger.blank_line(log)\n",
    "\n",
    "log.info(f\"Extraction Directory: {EXTRACTION_DIR}\")\n",
    "log.info(f\"Reports Directory: {REPORTS_DIR}\")\n",
    "\n",
    "db = SQLAlchemyClient(CONFIG_ID)"
   ]
  },
  {
   "cell_type": "markdown",
   "metadata": {},
   "source": [
    "# Validate Characteristics in APM"
   ]
  },
  {
   "cell_type": "markdown",
   "metadata": {},
   "source": [
    "This step validates if all characteristics are synced from ERP and are present in APM"
   ]
  },
  {
   "cell_type": "code",
   "execution_count": null,
   "metadata": {},
   "outputs": [],
   "source": [
    "# Validate ERP Characteristics in APM\n",
    "# ------------------------------------------------------------------------------ #\n",
    "# this step ensures that the characteristics are migrated / created from ERP to APM\n",
    "\n",
    "# standard imports\n",
    "import pandas as pd\n",
    "\n",
    "# custom imports\n",
    "from modules.util.database import V_ERPCharacteristics\n",
    "from modules.apm.manage_indicators import ApiCharacteristics\n",
    "from concurrent.futures import ThreadPoolExecutor, as_completed\n",
    "from modules.util.api import APIException\n",
    "\n",
    "file_err = rf\"{REPORTS_DIR}/3_Characteristics_Validate_ERR.csv\"\n",
    "\n",
    "chars = db.select(\n",
    "    V_ERPCharacteristics,\n",
    "    fields=['ERPCharacteristic','CharcInternalID']\n",
    ")\n",
    "\n",
    "df_chars = pd.DataFrame(chars)\n",
    "\n",
    "api = ApiCharacteristics(CONFIG_ID)\n",
    "error = []\n",
    "\n",
    "def call_api(id):\n",
    "    return(api.search_characteristic(id))\n",
    "\n",
    "with ThreadPoolExecutor(max_workers=20) as executor:\n",
    "    future_char = {executor.submit(call_api, char): char for char in df_chars['CharcInternalID']}\n",
    "\n",
    "    for future in as_completed(future_char):\n",
    "        char = future_char[future]\n",
    "        try:\n",
    "            data = future.result()\n",
    "            if data:\n",
    "                continue\n",
    "        except APIException as api_e:\n",
    "            if api_e.status_code == 404:\n",
    "                erp_char = df_chars.loc[df_chars['CharcInternalID'] == char, 'ERPCharacteristic'].values[0]\n",
    "                message = f\"Characteristic {char} ({erp_char}) not found in APM\"\n",
    "                api_e.response = message\n",
    "                log.error(message)\n",
    "            else:\n",
    "                log.error(f\"API Exception: {char} - {api_e.status_code} - {api_e.response} - {api_e.endpoint}\")\n",
    "            \n",
    "            err = {\n",
    "                'characteristic': char,\n",
    "                'status_code': api_e.status_code,\n",
    "                'response': api_e.response,\n",
    "                'endpoint': api_e.endpoint\n",
    "            }\n",
    "            error.append(err)\n",
    "\n",
    "if error:\n",
    "    log.error(f\"{len(error)} characteristics had errors.\")\n",
    "    df_err = pd.DataFrame(error)\n",
    "    df_err.to_csv(file_err,index=False)\n",
    "    log.error(f\"{file_err} generated.\")\n",
    "else:\n",
    "    log.info(\"ERP Characteristics are present in APM.\")"
   ]
  }
 ],
 "metadata": {
  "kernelspec": {
   "display_name": ".venv",
   "language": "python",
   "name": "python3"
  },
  "language_info": {
   "codemirror_mode": {
    "name": "ipython",
    "version": 3
   },
   "file_extension": ".py",
   "mimetype": "text/x-python",
   "name": "python",
   "nbconvert_exporter": "python",
   "pygments_lexer": "ipython3",
   "version": "3.13.2"
  }
 },
 "nbformat": 4,
 "nbformat_minor": 2
}
