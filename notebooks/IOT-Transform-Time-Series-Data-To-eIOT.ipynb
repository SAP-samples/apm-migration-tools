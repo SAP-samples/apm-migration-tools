{
 "cells": [
  {
   "cell_type": "markdown",
   "metadata": {},
   "source": [
    "# Transform Data\n",
    "\n",
    "This notebook will transform the extracted data and store it after transformation in parquet files.\n",
    "\n",
    "For detailed description see [documentation](../docs/iot-time-series-data.md)."
   ]
  },
  {
   "cell_type": "code",
   "execution_count": null,
   "metadata": {},
   "outputs": [],
   "source": [
    "import os\n",
    "\n",
    "import pandas as pd\n",
    "\n",
    "DOWNLOAD_FOLDER = \"../migration-data/iot-download/\"\n",
    "\n",
    "# find all files with ending .csv in the download folder and their sub-folders\n",
    "for root, dirs, files in os.walk(DOWNLOAD_FOLDER):\n",
    "    for file in files:\n",
    "        if file.endswith(\".csv\"):\n",
    "            print(os.path.join(root, file))\n",
    "            # read the csv file into a pandas dataframe\n",
    "            df = pd.read_csv(os.path.join(root, file), sep=\",\", header=0)\n",
    "            # do some processing\n",
    "            print(df.head())\n",
    "            # write the processed data to the new database\n",
    "            # delete the file\n",
    "            "
   ]
  }
 ],
 "metadata": {
  "kernelspec": {
   "display_name": ".venv",
   "language": "python",
   "name": "python3"
  },
  "language_info": {
   "codemirror_mode": {
    "name": "ipython",
    "version": 3
   },
   "file_extension": ".py",
   "mimetype": "text/x-python",
   "name": "python",
   "nbconvert_exporter": "python",
   "pygments_lexer": "ipython3",
   "version": "3.12.7"
  }
 },
 "nbformat": 4,
 "nbformat_minor": 2
}
